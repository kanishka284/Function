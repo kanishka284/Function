{
  "nbformat": 4,
  "nbformat_minor": 0,
  "metadata": {
    "colab": {
      "provenance": []
    },
    "kernelspec": {
      "name": "python3",
      "display_name": "Python 3"
    },
    "language_info": {
      "name": "python"
    }
  },
  "cells": [
    {
      "cell_type": "markdown",
      "metadata": {
        "id": "4e81546b"
      },
      "source": [
        "> QUES:-1 **Difference between a function and a method in Python:**\n",
        ">\n",
        ">ANS:-  In Python, the difference between a function and a method lies in how they are defined and called:\n",
        ">\n",
        "> *   **Function:** A function is a block of reusable code that performs a specific task. It is defined independently and can be called from anywhere by its name. Functions can accept arguments and return values.\n",
        ">\n",
        "> *   **Method:** A method is similar to a function, but it is associated with an object (an instance of a class). Methods are defined within a class and are called on an object of that class. They can access and modify the object's data.\n",
        ">\n",
        "> Think of it this way: all methods are functions, but not all functions are methods. A method is a function that belongs to an object."
      ]
    },
    {
      "cell_type": "markdown",
      "source": [
        ">**Ques:-2 Explain the concept of function arguments and parameter in python?**\n",
        ">\n",
        ">  ans:2 **parameters:**these are the names you gve to the inputs a function is designed to accept. They are defined within the parentheses in the function's[def]statements.\n",
        "\n",
        "        **Arguments**:These are the actual value you provide to the fuction when you call it.\n",
        "         These are the value are assigned to the corresponding parameter inside the function.\n",
        "        *python support differnt type of arguments.\n",
        "        1.Positional argument.\n",
        "        2.keyword argument.\n",
        "        3.default argument.\n",
        "        4.variable-length argument."
      ],
      "metadata": {
        "id": "H0y4Z2XzcHFu"
      }
    },
    {
      "cell_type": "markdown",
      "metadata": {
        "id": "fe34a104"
      },
      "source": [
        "QUES:3 **Different** **ways** **to** **define** **and** **call** **a** **fuction** **in** **python**?\n",
        "### 1. Simple Function Definition and Call\n",
        "This is the most basic way to define a function using the `def` keyword."
      ]
    },
    {
      "cell_type": "markdown",
      "metadata": {
        "id": "aa7da9cd"
      },
      "source": [
        "### 2. Lambda Functions (Anonymous Functions)\n",
        "Lambda functions are small, anonymous functions defined with the `lambda` keyword. They can take any number of arguments but can only have one expression."
      ]
    },
    {
      "cell_type": "code",
      "metadata": {
        "id": "bf91a208"
      },
      "source": [
        "# Defining a lambda function\n",
        "multiply = lambda x, y: x * y\n",
        "\n",
        "# Calling the lambda function\n",
        "print(f\"The product is: {multiply(4, 5)}\")"
      ],
      "execution_count": null,
      "outputs": []
    },
    {
      "cell_type": "markdown",
      "source": [
        "###3. Nested function\n",
        "     * a fuction define inside another fuction.\n",
        "     * useful for encapsulation and keepin helper function local to outer functions."
      ],
      "metadata": {
        "id": "BODNL3ZrjeBD"
      }
    },
    {
      "cell_type": "markdown",
      "source": [
        "### Ques:-4 What is the purpose of return statement in a python function.?\n",
        "    Ans:- *The return statement is used to send a result from a function back to the caller.\n",
        "          * without return,a function none by default.\n",
        "          * retuen allows function to produce a value that can be store,printd,or used in other operations.\n",
        "          *its also helps in breaking out of a function immediately.\n"
      ],
      "metadata": {
        "id": "Rvxm_wNymFSt"
      }
    },
    {
      "cell_type": "markdown",
      "metadata": {
        "id": "f1963710"
      },
      "source": [
        "Ques:-5 **What is iterators in python and how do they differ from iterables?**\n",
        "\n",
        "**Ans:** *   **Iterable:** This is an object that is capable of returning its members one at a time. Think of it as a collection of items that you can go through. Examples include lists (`[]`), tuples (`()`), strings (`\"\"`), dictionaries (`{}`), and sets (`{}`). An object is iterable if it has an `__iter__()` method (which returns an iterator) or a `__getitem__()` method (which can take sequential indexes).\n",
        "\n",
        "*   **Iterator:** This is an object that represents the state of the iteration. It's what actually produces the next item when you request it. An iterator object must implement two methods:\n",
        "    *   `__iter__()`: This method returns the iterator object itself. This is required so that iterators can be used in places where an iterable is expected (like in a `for` loop).\n",
        "    *   `__next__()`: This method must return the next item in the sequence. If there are no more items to return, it must raise the `StopIteration` exception.\n",
        "\n",
        "The key difference is that an **iterable** is the source of data that can be iterated over, while an **iterator** is the object that manages the process of iterating through that data, keeping track of the current position.\n",
        "\n",
        "You can get an iterator from an iterable using the built-in `iter()` function."
      ]
    },
    {
      "cell_type": "markdown",
      "source": [
        "###Ques:-6 Explain the concept of generators in python and how they are define?\n",
        "Ans:-"
      ],
      "metadata": {
        "id": "Q-Y4vUzPp9hF"
      }
    },
    {
      "cell_type": "markdown",
      "metadata": {
        "id": "4d5a073d"
      },
      "source": [
        "### Generators in Python\n",
        "\n",
        "Generators are a simple way to create iterators. They are functions that use the `yield` keyword instead of `return` to return data. Unlike regular functions that return a single value and then terminate, generators can yield a sequence of values over time, pausing their execution after each `yield` and resuming from where they left off when `next()` is called on them.\n",
        "\n",
        "This makes generators memory-efficient, especially when dealing with large datasets, because they don't load all the values into memory at once. They generate values on the fly as they are requested."
      ]
    },
    {
      "cell_type": "markdown",
      "metadata": {
        "id": "9f141285"
      },
      "source": [
        "### Defining Generators\n",
        "\n",
        "Generators are defined like regular functions, but they contain one or more `yield` statements."
      ]
    },
    {
      "cell_type": "code",
      "metadata": {
        "colab": {
          "base_uri": "https://localhost:8080/"
        },
        "id": "48cb4185",
        "outputId": "d38040a8-1570-4c61-b770-08516828a93e"
      },
      "source": [
        "# Defining a simple generator function\n",
        "def my_generator():\n",
        "  print(\"First item\")\n",
        "  yield 1\n",
        "\n",
        "  print(\"Second item\")\n",
        "  yield 2\n",
        "\n",
        "  print(\"Third item\")\n",
        "  yield 3\n",
        "\n",
        "# Creating a generator object\n",
        "gen = my_generator()\n",
        "\n",
        "# Iterating through the generator\n",
        "print(next(gen))\n",
        "print(next(gen))\n",
        "print(next(gen))\n",
        "\n",
        "# This would raise StopIteration\n",
        "# print(next(gen))"
      ],
      "execution_count": null,
      "outputs": [
        {
          "output_type": "stream",
          "name": "stdout",
          "text": [
            "First item\n",
            "1\n",
            "Second item\n",
            "2\n",
            "Third item\n",
            "3\n"
          ]
        }
      ]
    },
    {
      "cell_type": "markdown",
      "source": [
        "### Ques:-7 what are the advantage of using generators over regular function?\n",
        "Ans:-"
      ],
      "metadata": {
        "id": "ECBvguZqrfGZ"
      }
    },
    {
      "cell_type": "markdown",
      "metadata": {
        "id": "fc6165f9"
      },
      "source": [
        "*   **Memory Efficiency:** They generate values on the fly, saving memory, especially for large datasets.\n",
        "*   **Performance:** Can be faster for large sequences due to lazy evaluation.\n",
        "*   **Simpler Iterator Creation:** Easier to write than custom iterator classes.\n",
        "*   **Handle Infinite Sequences:** Can represent infinite data streams.\n",
        "*   **Efficient Pipelining:** Good for building data processing pipelines."
      ]
    },
    {
      "cell_type": "markdown",
      "source": [
        "### Ques:-8 What is the lambda function in python and when is it typically used?\n",
        "Ans:-"
      ],
      "metadata": {
        "id": "TSxcIE-MsmUw"
      }
    },
    {
      "cell_type": "markdown",
      "metadata": {
        "id": "c64ddb0a"
      },
      "source": [
        "A lambda function in Python is a way to create a small, anonymous function. It is defined using the `lambda` keyword, followed by the arguments, a colon, and a single expression. The result of this expression is what the lambda function returns.\n",
        "\n",
        "They are typically used for:\n",
        "\n",
        "*   **Short, simple tasks:** When the function logic is very basic and fits into a single expression.\n",
        "*   **Passing as arguments:** Often used with higher-order functions like `map()`, `filter()`, and `sorted()` that accept other functions as input.\n",
        "*   **Conciseness:** To write short, inline functions without a formal `def` statement.\n",
        "\n",
        "They are **not** suitable for:\n",
        "\n",
        "*   Complex logic requiring multiple statements.\n",
        "*   Functions that need a name for reusability or clarity."
      ]
    },
    {
      "cell_type": "markdown",
      "source": [
        "### Ques9:- Explain the purpose and usage of the map() function in python?\n",
        "Ans:-"
      ],
      "metadata": {
        "id": "gNuqrI9Fu5ia"
      }
    },
    {
      "cell_type": "markdown",
      "metadata": {
        "id": "dda31099"
      },
      "source": [
        "### Purpose of the `map()` Function in Python\n",
        "\n",
        "The `map()` function is a built-in Python function that is used to apply a given function to all items of an iterable (like a list, tuple, etc.) and return an **iterator** of the results.\n",
        "\n",
        "Its primary purpose is to perform the same operation on each element of a sequence efficiently and often more concisely than using a traditional `for` loop."
      ]
    },
    {
      "cell_type": "markdown",
      "metadata": {
        "id": "49fd4c1c"
      },
      "source": [
        "### Usage of the `map()` Function\n",
        "\n",
        "The syntax for the `map()` function is:\n",
        "\n",
        "`map(function, iterable, ...)`\n",
        "\n",
        "*   **`function`**: This is the function that will be applied to each item of the `iterable`. This function should accept as many arguments as there are iterables passed to `map`.\n",
        "*   **`iterable`**: This is one or more iterable objects (like lists, tuples, strings). `map()` will take items from each iterable corresponding to the arguments of the `function`.\n",
        "\n",
        "`map()` returns a `map` object, which is an iterator. To see the results as a list, tuple, or other sequence, you need to convert the map object using functions like `list()`, `tuple()`, etc."
      ]
    },
    {
      "cell_type": "markdown",
      "source": [
        "### Ques:-10 What is the difference between map(),reduce(), and filter() functions in python?"
      ],
      "metadata": {
        "id": "GQ7m03C9vyar"
      }
    },
    {
      "cell_type": "markdown",
      "metadata": {
        "id": "b195ff53"
      },
      "source": [
        "Here are the key difference points between `map()`, `filter()`, and `reduce()` in a table:\n",
        "\n",
        "| Feature     | `map()`                                    | `filter()`                                      | `reduce()`                                       |\n",
        "| :---------- | :----------------------------------------- | :---------------------------------------------- | :----------------------------------------------- |\n",
        "| **Purpose** | Transform each element                     | Select elements based on a condition            | Combine elements into a single value           |\n",
        "| **Output**  | Iterator with same number of elements      | Iterator with potentially fewer elements        | Single value                                     |\n",
        "| **Input Function** | Applied to each element           | Returns True/False for each element    | Combines two elements at a time       |\n",
        "| **Return Value of Function** | Transformed element (`map`), Boolean (`filter`), Accumulated value (`reduce`). | N/A | Accumulated value |\n",
        "| **Module**  | Built-in                                   | Built-in                                        | `functools` module (in Python 3)                 |"
      ]
    },
    {
      "cell_type": "markdown",
      "source": [
        "### Ques:11\n",
        "\n",
        "\n",
        "https://drive.google.com/file/d/1BNX4sY9sUwBkLKWfKGutY7Ge1ZyRdpM0/view?usp=drive_link\n"
      ],
      "metadata": {
        "id": "LZuzrdSLYDdo"
      }
    },
    {
      "cell_type": "markdown",
      "source": [
        "### PRACTICAL QUESTION"
      ],
      "metadata": {
        "id": "rhQ0IrulqNRq"
      }
    },
    {
      "cell_type": "markdown",
      "source": [],
      "metadata": {
        "id": "m_3L9xPDX6Lu"
      }
    },
    {
      "cell_type": "code",
      "source": [
        "### Ques:-1 Write a python function that takes a list of numbers as input and returns the sum of all even numbers in the list.\n",
        "def sum_of_evens(nums):\n",
        "    return sum(n for n in nums if n % 2 == 0)\n",
        "\n",
        "print(sum_of_evens([ 2, 4, 6, 8, 10]))"
      ],
      "metadata": {
        "colab": {
          "base_uri": "https://localhost:8080/"
        },
        "id": "Zyu3smxtqbk-",
        "outputId": "a3cf3df1-61d6-4feb-ed4d-af04bcaa5079"
      },
      "execution_count": null,
      "outputs": [
        {
          "output_type": "stream",
          "name": "stdout",
          "text": [
            "30\n"
          ]
        }
      ]
    },
    {
      "cell_type": "code",
      "source": [
        "### Ques:-2 Create a python function that accepts a string and returns the reverse of that string.\n",
        "def reverse_string(s):\n",
        "    return s[::-1]\n",
        "\n",
        "print(reverse_string(\"Hello, World!\"))"
      ],
      "metadata": {
        "colab": {
          "base_uri": "https://localhost:8080/"
        },
        "id": "-MezIbpbtCEw",
        "outputId": "bf61c579-7baf-418a-9be6-4532fd707a6a"
      },
      "execution_count": null,
      "outputs": [
        {
          "output_type": "stream",
          "name": "stdout",
          "text": [
            "!dlroW ,olleH\n"
          ]
        }
      ]
    },
    {
      "cell_type": "code",
      "source": [
        "### Ques:-3 implement a python function that takes a list of integers and returns a new list containing the sequences of each number.\n",
        "def square_list(numbers):\n",
        "  return [num ** 2 for num in numbers]\n",
        "\n",
        "print(square_list([1, 2, 3, 4, 5]))"
      ],
      "metadata": {
        "colab": {
          "base_uri": "https://localhost:8080/"
        },
        "id": "eWUCEMAYtdDP",
        "outputId": "6f0c1fc4-6bb8-48aa-dcc0-f0e86b5f1393"
      },
      "execution_count": null,
      "outputs": [
        {
          "output_type": "stream",
          "name": "stdout",
          "text": [
            "[1, 4, 9, 16, 25]\n"
          ]
        }
      ]
    },
    {
      "cell_type": "code",
      "source": [
        "### Ques:-4 Write a python function that checks if a given number is prime or not from 1 to 200.\n",
        "def is_prime(num):\n",
        "  if num < 2:\n",
        "    return False\n",
        "  for i in range (2, num):\n",
        "    if num % i == 0:\n",
        "      return False\n",
        "  return True\n",
        "\n",
        "def prime_numbers_upto_200():\n",
        "  primes = []\n",
        "  for num in range(2, 201):\n",
        "    if is_prime(num):\n",
        "      primes.append(num)\n",
        "  return primes\n",
        "\n",
        "print(prime_numbers_upto_200())"
      ],
      "metadata": {
        "colab": {
          "base_uri": "https://localhost:8080/"
        },
        "id": "l3qO2OVQuHI2",
        "outputId": "bb78ecce-ab2a-4dde-a51d-8c9bc9a2a7a9"
      },
      "execution_count": null,
      "outputs": [
        {
          "output_type": "stream",
          "name": "stdout",
          "text": [
            "[2, 3, 5, 7, 11, 13, 17, 19, 23, 29, 31, 37, 41, 43, 47, 53, 59, 61, 67, 71, 73, 79, 83, 89, 97, 101, 103, 107, 109, 113, 127, 131, 137, 139, 149, 151, 157, 163, 167, 173, 179, 181, 191, 193, 197, 199]\n"
          ]
        }
      ]
    },
    {
      "cell_type": "code",
      "source": [
        "### Ques:-5 Create an iterator class in python that generates the fibonacci sequence up to a specified number of terms.\n",
        "class FibonacciIterator:\n",
        "  def __init__(self, n_terms):\n",
        "    self.n_terms = n_terms  # total terms required\n",
        "    self.count = 0          # counter\n",
        "    self.a, self.b = 0, 1    # starting values\n",
        "\n",
        "  def __iter__(self):\n",
        "    return self\n",
        "\n",
        "  def __next__(self):\n",
        "    if self.count < self.n_terms:\n",
        "      value = self.a\n",
        "      self.a, self.b = self.b, self.a + self.b\n",
        "      self.count += 1\n",
        "      return value\n",
        "    else:\n",
        "      raise StopIteration\n",
        "\n",
        "# Example usage:\n",
        "fib = FibonacciIterator(10)  # generate first 10 terms\n",
        "for num in fib:\n",
        "  print(num, end=\" \")\n",
        "\n",
        "print(\"\\n\") # Add a newline for better formatting\n",
        "\n",
        "# Another example\n",
        "fib_5 = FibonacciIterator(5) # generate first 5 terms\n",
        "print(\"First 5 Fibonacci numbers:\")\n",
        "for num in fib_5:\n",
        "    print(num, end=\" \")"
      ],
      "metadata": {
        "colab": {
          "base_uri": "https://localhost:8080/"
        },
        "id": "nYPQ1evovgvM",
        "outputId": "90db12cf-a122-49a1-da32-8506c86f7a78"
      },
      "execution_count": null,
      "outputs": [
        {
          "output_type": "stream",
          "name": "stdout",
          "text": [
            "0 1 1 2 3 5 8 13 21 34 \n",
            "\n",
            "First 5 Fibonacci numbers:\n",
            "0 1 1 2 3 "
          ]
        }
      ]
    },
    {
      "cell_type": "code",
      "metadata": {
        "colab": {
          "base_uri": "https://localhost:8080/"
        },
        "id": "174a4fe8",
        "outputId": "9a7829f0-750b-4318-fd4d-75cb6d8b5b6b"
      },
      "source": [
        "### Ques:-6\n",
        "def powers_of_two(max_exponent):\n",
        "  for i in range(max_exponent + 1):\n",
        "    yield 2 ** i\n",
        "for num in powers_of_two(5):\n",
        "  print(num,end=\" \")"
      ],
      "execution_count": 1,
      "outputs": [
        {
          "output_type": "stream",
          "name": "stdout",
          "text": [
            "1 2 4 8 16 32 "
          ]
        }
      ]
    },
    {
      "cell_type": "code",
      "source": [
        "### Ques:-7 implement a generator function that reads a file line by line yields each line as a string.\n",
        "# step 1: Create a sample file\n",
        "with open('sample.txt', 'w') as file:\n",
        "  file.write(\"hello\\n\")\n",
        "  file.write(\"this is ritesh\\n\")\n",
        "  file.write(\"learning python\\n\")\n",
        "\n",
        "# step 2: generator function to read file line by line\n",
        "def read_file_line_by_line(filename):\n",
        "  with open(filename, 'r') as file:\n",
        "    for line in file:\n",
        "      yield line\n",
        "\n",
        "# step 3: using the generator function\n",
        "for line in read_file_line_by_line('sample.txt'):\n",
        "  print(line, end=\"\")\n"
      ],
      "metadata": {
        "colab": {
          "base_uri": "https://localhost:8080/"
        },
        "id": "ktwwyk_YFOJB",
        "outputId": "d5fbef4f-77ec-48d0-91cd-ce834adf22e2"
      },
      "execution_count": 5,
      "outputs": [
        {
          "output_type": "stream",
          "name": "stdout",
          "text": [
            "hello\n",
            "this is ritesh\n",
            "learning python\n"
          ]
        }
      ]
    },
    {
      "cell_type": "code",
      "metadata": {
        "colab": {
          "base_uri": "https://localhost:8080/"
        },
        "id": "a7c89fce",
        "outputId": "bfe506c3-c43d-4b11-ffc1-462f97a6a0bb"
      },
      "source": [
        "### Ques:8\n",
        "# List of tuples\n",
        "my_list = [(1, 'b'), (3, 'd'), (2, 'a'), (4, 'c')]\n",
        "\n",
        "# Sort the list of tuples based on the second element using a lambda function\n",
        "sorted_list = sorted(my_list, key=lambda item: item[1])\n",
        "\n",
        "# Print the sorted list\n",
        "print(sorted_list)"
      ],
      "execution_count": 6,
      "outputs": [
        {
          "output_type": "stream",
          "name": "stdout",
          "text": [
            "[(2, 'a'), (1, 'b'), (4, 'c'), (3, 'd')]\n"
          ]
        }
      ]
    },
    {
      "cell_type": "code",
      "source": [
        "### Ques:11\n",
        "# Accounting routine with lambda and map\n",
        "\n",
        "order = [\n",
        "    [34587, \"Learning Python, Mark Lutz\", 4, 40.95],\n",
        "    [98762, \"Programming Python, Mark Lutz\", 5, 56.80],\n",
        "    [77226, \"Head First Python, Paul Barry\", 3, 32.95],\n",
        "    [88112, \"Einführung in Python3, Bernd Klein\", 3, 24.99]\n",
        "]\n",
        "# using lambda+map\n",
        "result = list(map(lambda order: (order[0], order[2] * order[3] if order[2] * order[3] >= 100 else order[2] * order[3] + 10), order))\n",
        "print(result)\n"
      ],
      "metadata": {
        "colab": {
          "base_uri": "https://localhost:8080/"
        },
        "id": "JEap_0HySevt",
        "outputId": "84fd7a54-86a5-437f-cc50-abc85cf70294"
      },
      "execution_count": 12,
      "outputs": [
        {
          "output_type": "stream",
          "name": "stdout",
          "text": [
            "[(34587, 163.8), (98762, 284.0), (77226, 108.85000000000001), (88112, 84.97)]\n"
          ]
        }
      ]
    },
    {
      "cell_type": "code",
      "source": [
        "### Ques:9\n"
      ],
      "metadata": {
        "id": "_OJM487ZUdiD"
      },
      "execution_count": null,
      "outputs": []
    },
    {
      "cell_type": "code",
      "metadata": {
        "colab": {
          "base_uri": "https://localhost:8080/"
        },
        "id": "3839d182",
        "outputId": "3b2bb89d-e084-44d7-f5bd-5e09c35fe765"
      },
      "source": [
        "# Function to convert Celsius to Fahrenheit\n",
        "def celsius_to_fahrenheit(celsius):\n",
        "  return (celsius * 9/5) + 32\n",
        "\n",
        "# List of temperatures in Celsius\n",
        "celsius_temps = [0, 10, 20, 30, 40, 100]\n",
        "\n",
        "# Use map() to convert the list to Fahrenheit\n",
        "fahrenheit_temps_map = map(celsius_to_fahrenheit, celsius_temps)\n",
        "\n",
        "# Convert the map object to a list to display the results\n",
        "fahrenheit_temps_list = list(fahrenheit_temps_map)\n",
        "\n",
        "print(\"Celsius temperatures:\", celsius_temps)\n",
        "print(\"Fahrenheit temperatures (using map()):\", fahrenheit_temps_list)"
      ],
      "execution_count": 13,
      "outputs": [
        {
          "output_type": "stream",
          "name": "stdout",
          "text": [
            "Celsius temperatures: [0, 10, 20, 30, 40, 100]\n",
            "Fahrenheit temperatures (using map()): [32.0, 50.0, 68.0, 86.0, 104.0, 212.0]\n"
          ]
        }
      ]
    },
    {
      "cell_type": "code",
      "metadata": {
        "colab": {
          "base_uri": "https://localhost:8080/"
        },
        "id": "888b12da",
        "outputId": "e54e07c5-19b4-478a-9d3e-056fcfb76b95"
      },
      "source": [
        "### Ques 10\n",
        "# Function to check if a character is a vowel\n",
        "def is_not_vowel(char):\n",
        "  vowels = \"aeiouAEIOU\"\n",
        "  return char not in vowels\n",
        "\n",
        "# Given string\n",
        "input_string = \"Hello, World!\"\n",
        "\n",
        "# Use filter() to remove vowels\n",
        "filtered_chars = filter(is_not_vowel, input_string)\n",
        "\n",
        "# Join the filtered characters back into a string\n",
        "result_string = \"\".join(filtered_chars)\n",
        "\n",
        "print(\"Original string:\", input_string)\n",
        "print(\"String after removing vowels:\", result_string)"
      ],
      "execution_count": 14,
      "outputs": [
        {
          "output_type": "stream",
          "name": "stdout",
          "text": [
            "Original string: Hello, World!\n",
            "String after removing vowels: Hll, Wrld!\n"
          ]
        }
      ]
    }
  ]
}